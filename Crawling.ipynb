{
 "cells": [
  {
   "cell_type": "markdown",
   "id": "5db8b910",
   "metadata": {},
   "source": [
    "# How to crawling?"
   ]
  },
  {
   "cell_type": "code",
   "execution_count": 1,
   "id": "cd47a736",
   "metadata": {},
   "outputs": [],
   "source": [
    "#import custom module\n",
    "import havester as hv\n",
    "import pandas as pd\n",
    "\n",
    "hv.IS_LOGGING = True"
   ]
  },
  {
   "cell_type": "markdown",
   "id": "c4a82485",
   "metadata": {},
   "source": [
    "## 위치을 이용하여 구역 특정"
   ]
  },
  {
   "cell_type": "code",
   "execution_count": 2,
   "id": "ffb15a7f",
   "metadata": {},
   "outputs": [
    {
     "name": "stdout",
     "output_type": "stream",
     "text": [
      "Get https://new.land.naver.com/api/cortars\n",
      "서울시 강남구 대치동 1168010600 loc(37.499110 | 127.065463)\n"
     ]
    }
   ],
   "source": [
    "# loc = hv.NLocation(35.18213, 128.1366) # 진주 충무공동\n",
    "loc = hv.NLocation(37.49911, 127.065463) # 강남 대치동\n",
    "\n",
    "sector = hv.get_sector(loc)\n",
    "\n",
    "print(sector)"
   ]
  },
  {
   "cell_type": "markdown",
   "id": "efea2d5d",
   "metadata": {},
   "source": [
    "## 매물 조건 생성"
   ]
  },
  {
   "cell_type": "code",
   "execution_count": 3,
   "id": "b430e202",
   "metadata": {},
   "outputs": [],
   "source": [
    "addon = hv.NAddon(\n",
    "    tradeType=[hv.NAddon.TRADE_DEAL, hv.NAddon.TRADE_LEASE], #목표 거래 - 매매, 전세\n",
    "    estateType=[hv.NAddon.ESTATE_APT, hv.NAddon.ESTATE_OPST] #목표 매물 - 아파트, 오피스텔\n",
    ")"
   ]
  },
  {
   "cell_type": "markdown",
   "id": "87ffec38",
   "metadata": {},
   "source": [
    "## 조건과 구역을 이용하여 매물 탐색"
   ]
  },
  {
   "cell_type": "code",
   "execution_count": 4,
   "id": "763afc47",
   "metadata": {},
   "outputs": [
    {
     "name": "stdout",
     "output_type": "stream",
     "text": [
      "Get https://new.land.naver.com/api/complexes/single-markers/2.0\n",
      "Get https://new.land.naver.com/api/complexes/single-markers/2.0\n",
      "Get https://new.land.naver.com/api/complexes/single-markers/2.0\n",
      "Get https://new.land.naver.com/api/complexes/single-markers/2.0\n",
      "Get https://new.land.naver.com/api/complexes/single-markers/2.0\n",
      "Get https://new.land.naver.com/api/complexes/single-markers/2.0\n",
      "Get https://new.land.naver.com/api/complexes/single-markers/2.0\n",
      "Get https://new.land.naver.com/api/complexes/single-markers/2.0\n"
     ]
    }
   ],
   "source": [
    "things = [] # 매물 기록\n",
    "for dirr in hv.NAddon.DIR_EACH: # 모든 방향 (남향 등등)\n",
    "    addon.direction = [dirr] # 매물 방향 선택\n",
    "    res = hv.get_things(sector, addon)\n",
    "    \n",
    "    for v in res:\n",
    "        v.dir = dirr # 매물 방향 정의\n",
    "    things.extend(res)"
   ]
  },
  {
   "cell_type": "markdown",
   "id": "64134417",
   "metadata": {},
   "source": [
    "## 구역 주변 편의 시설 탐색"
   ]
  },
  {
   "cell_type": "code",
   "execution_count": 5,
   "id": "4e56b9d0",
   "metadata": {},
   "outputs": [
    {
     "name": "stdout",
     "output_type": "stream",
     "text": [
      "Get https://new.land.naver.com/api/regions/neighborhoods\n",
      "Get https://new.land.naver.com/api/regions/neighborhoods\n",
      "Get https://new.land.naver.com/api/regions/neighborhoods\n",
      "Get https://new.land.naver.com/api/regions/neighborhoods\n",
      "Get https://new.land.naver.com/api/regions/neighborhoods\n",
      "Get https://new.land.naver.com/api/regions/neighborhoods\n",
      "Get https://new.land.naver.com/api/regions/neighborhoods\n",
      "Get https://new.land.naver.com/api/regions/neighborhoods\n",
      "Get https://new.land.naver.com/api/regions/neighborhoods\n",
      "Get https://new.land.naver.com/api/regions/neighborhoods\n",
      "Get https://new.land.naver.com/api/regions/neighborhoods\n",
      "Get https://new.land.naver.com/api/regions/neighborhoods\n"
     ]
    }
   ],
   "source": [
    "neighbors = [] # 편의시설 기록\n",
    "for nType in hv.NNeighbor.EACH: # 모든 편의시설\n",
    "    res = hv.get_neighborhood(sector.loc, nType)\n",
    "    neighbors.extend(res)"
   ]
  },
  {
   "cell_type": "code",
   "execution_count": 6,
   "id": "0dfcee3b",
   "metadata": {},
   "outputs": [
    {
     "name": "stdout",
     "output_type": "stream",
     "text": [
      "[<havester.NNeighbor object at 0x7f928a454eb0>, <havester.NNeighbor object at 0x7f928a464100>, <havester.NNeighbor object at 0x7f928a464d60>, <havester.NNeighbor object at 0x7f928a464d90>, <havester.NNeighbor object at 0x7f928a464910>, <havester.NNeighbor object at 0x7f928a464850>, <havester.NNeighbor object at 0x7f928a464a00>, <havester.NNeighbor object at 0x7f928a464a90>, <havester.NNeighbor object at 0x7f928a464a30>, <havester.NNeighbor object at 0x7f928a4646a0>, <havester.NNeighbor object at 0x7f92280cb9a0>, <havester.NNeighbor object at 0x7f92280cc040>, <havester.NNeighbor object at 0x7f92280cc100>, <havester.NNeighbor object at 0x7f92280cc1c0>, <havester.NNeighbor object at 0x7f92280cc280>, <havester.NNeighbor object at 0x7f92280cc340>, <havester.NNeighbor object at 0x7f92280cc400>, <havester.NNeighbor object at 0x7f92280cc4c0>, <havester.NNeighbor object at 0x7f92280cc580>, <havester.NNeighbor object at 0x7f92280cc640>, <havester.NNeighbor object at 0x7f92280cc700>, <havester.NNeighbor object at 0x7f92280cc7c0>, <havester.NNeighbor object at 0x7f92280cc880>, <havester.NNeighbor object at 0x7f92280cc940>, <havester.NNeighbor object at 0x7f92280cca00>, <havester.NNeighbor object at 0x7f92280ccac0>, <havester.NNeighbor object at 0x7f92280ccb80>, <havester.NNeighbor object at 0x7f92280ccc40>, <havester.NNeighbor object at 0x7f92280ccd00>, <havester.NNeighbor object at 0x7f92280ccdc0>, <havester.NNeighbor object at 0x7f92280cce80>, <havester.NNeighbor object at 0x7f92280ccf40>, <havester.NNeighbor object at 0x7f92280ce1f0>, <havester.NNeighbor object at 0x7f92280ce040>, <havester.NNeighbor object at 0x7f92280ce280>, <havester.NNeighbor object at 0x7f92280ce250>, <havester.NNeighbor object at 0x7f92280ce340>, <havester.NNeighbor object at 0x7f92280ce400>, <havester.NNeighbor object at 0x7f92280ce4c0>, <havester.NNeighbor object at 0x7f92280ce580>, <havester.NNeighbor object at 0x7f92280ce640>, <havester.NNeighbor object at 0x7f92280ce700>, <havester.NNeighbor object at 0x7f92280ce7c0>, <havester.NNeighbor object at 0x7f92280ce880>, <havester.NNeighbor object at 0x7f92280ce940>, <havester.NNeighbor object at 0x7f92280cea00>, <havester.NNeighbor object at 0x7f92280ceac0>, <havester.NNeighbor object at 0x7f92280ceb80>, <havester.NNeighbor object at 0x7f92280cec40>, <havester.NNeighbor object at 0x7f92280ced00>, <havester.NNeighbor object at 0x7f92280cedc0>, <havester.NNeighbor object at 0x7f92280cee80>, <havester.NNeighbor object at 0x7f92280cef40>, <havester.NNeighbor object at 0x7f92280cd040>, <havester.NNeighbor object at 0x7f92280cd100>, <havester.NNeighbor object at 0x7f92280cd1c0>, <havester.NNeighbor object at 0x7f92280cd280>, <havester.NNeighbor object at 0x7f92280cd340>, <havester.NNeighbor object at 0x7f92280cd400>, <havester.NNeighbor object at 0x7f92280cd790>, <havester.NNeighbor object at 0x7f92280cd880>, <havester.NNeighbor object at 0x7f92280cdb80>, <havester.NNeighbor object at 0x7f92280cd5e0>, <havester.NNeighbor object at 0x7f92280cd9a0>, <havester.NNeighbor object at 0x7f92280cd520>, <havester.NNeighbor object at 0x7f92280cdca0>, <havester.NNeighbor object at 0x7f92280cda60>, <havester.NNeighbor object at 0x7f92280cdeb0>, <havester.NNeighbor object at 0x7f92280cd8b0>, <havester.NNeighbor object at 0x7f92280cd610>, <havester.NNeighbor object at 0x7f92280cddf0>, <havester.NNeighbor object at 0x7f92280cd670>, <havester.NNeighbor object at 0x7f92280cde20>, <havester.NNeighbor object at 0x7f92280cd4c0>, <havester.NNeighbor object at 0x7f9228047040>, <havester.NNeighbor object at 0x7f9228047100>, <havester.NNeighbor object at 0x7f92280471c0>, <havester.NNeighbor object at 0x7f9228047280>, <havester.NNeighbor object at 0x7f9228047340>, <havester.NNeighbor object at 0x7f9228047400>, <havester.NNeighbor object at 0x7f92280474c0>, <havester.NNeighbor object at 0x7f9228047580>, <havester.NNeighbor object at 0x7f9228047640>, <havester.NNeighbor object at 0x7f9228047700>, <havester.NNeighbor object at 0x7f92280477c0>, <havester.NNeighbor object at 0x7f9228047880>, <havester.NNeighbor object at 0x7f9228047940>, <havester.NNeighbor object at 0x7f9228047a00>, <havester.NNeighbor object at 0x7f9228047ac0>, <havester.NNeighbor object at 0x7f9228047b80>, <havester.NNeighbor object at 0x7f9228047c40>, <havester.NNeighbor object at 0x7f9228047d00>, <havester.NNeighbor object at 0x7f9228047dc0>, <havester.NNeighbor object at 0x7f9228047e80>, <havester.NNeighbor object at 0x7f9228047f40>, <havester.NNeighbor object at 0x7f92280d2040>, <havester.NNeighbor object at 0x7f92280d2100>, <havester.NNeighbor object at 0x7f92280d21c0>, <havester.NNeighbor object at 0x7f92280d2280>, <havester.NNeighbor object at 0x7f92280d2340>, <havester.NNeighbor object at 0x7f92280d2400>, <havester.NNeighbor object at 0x7f92280d24c0>, <havester.NNeighbor object at 0x7f92280d2580>, <havester.NNeighbor object at 0x7f92280d2910>, <havester.NNeighbor object at 0x7f92280d2a00>, <havester.NNeighbor object at 0x7f92280d2cd0>, <havester.NNeighbor object at 0x7f92280d2610>, <havester.NNeighbor object at 0x7f92280d2fa0>, <havester.NNeighbor object at 0x7f92280d27c0>, <havester.NNeighbor object at 0x7f92280d2850>, <havester.NNeighbor object at 0x7f92280d2760>, <havester.NNeighbor object at 0x7f92280d2790>, <havester.NNeighbor object at 0x7f92280d2df0>, <havester.NNeighbor object at 0x7f92280d2a30>, <havester.NNeighbor object at 0x7f92280d2af0>, <havester.NNeighbor object at 0x7f92280d2ee0>, <havester.NNeighbor object at 0x7f92280d4040>, <havester.NNeighbor object at 0x7f92280d40a0>, <havester.NNeighbor object at 0x7f92280d4310>, <havester.NNeighbor object at 0x7f92280d44f0>, <havester.NNeighbor object at 0x7f92280d44c0>, <havester.NNeighbor object at 0x7f92280d4400>, <havester.NNeighbor object at 0x7f92280d4070>, <havester.NNeighbor object at 0x7f92280d4580>, <havester.NNeighbor object at 0x7f92280d4640>, <havester.NNeighbor object at 0x7f92280d4700>, <havester.NNeighbor object at 0x7f92280d47c0>, <havester.NNeighbor object at 0x7f92280d4880>, <havester.NNeighbor object at 0x7f92280d4940>, <havester.NNeighbor object at 0x7f92280d4a00>, <havester.NNeighbor object at 0x7f92280d4ac0>, <havester.NNeighbor object at 0x7f92280d4b80>, <havester.NNeighbor object at 0x7f92280d4c40>, <havester.NNeighbor object at 0x7f92280d4d00>, <havester.NNeighbor object at 0x7f92280d4dc0>, <havester.NNeighbor object at 0x7f92280d4e80>, <havester.NNeighbor object at 0x7f92280d4f40>, <havester.NNeighbor object at 0x7f92280d6040>, <havester.NNeighbor object at 0x7f92280d6100>, <havester.NNeighbor object at 0x7f92280d61c0>, <havester.NNeighbor object at 0x7f92280d6b80>, <havester.NNeighbor object at 0x7f92280d6b20>, <havester.NNeighbor object at 0x7f92280d6430>, <havester.NNeighbor object at 0x7f92280d6550>, <havester.NNeighbor object at 0x7f92280d62e0>, <havester.NNeighbor object at 0x7f92280d63d0>, <havester.NNeighbor object at 0x7f92280d6310>, <havester.NNeighbor object at 0x7f92280d68e0>, <havester.NNeighbor object at 0x7f92280d6d00>, <havester.NNeighbor object at 0x7f92280d68b0>, <havester.NNeighbor object at 0x7f92280d6910>, <havester.NNeighbor object at 0x7f92280d6520>, <havester.NNeighbor object at 0x7f92280d65e0>, <havester.NNeighbor object at 0x7f92280d66d0>, <havester.NNeighbor object at 0x7f92280d6220>, <havester.NNeighbor object at 0x7f92280d6df0>, <havester.NNeighbor object at 0x7f92280d6eb0>, <havester.NNeighbor object at 0x7f92280d6f70>, <havester.NNeighbor object at 0x7f92280d9070>, <havester.NNeighbor object at 0x7f92280d9130>, <havester.NNeighbor object at 0x7f92280d91f0>, <havester.NNeighbor object at 0x7f92280d92b0>, <havester.NNeighbor object at 0x7f92280d9370>, <havester.NNeighbor object at 0x7f92280d9430>, <havester.NNeighbor object at 0x7f92280d94f0>, <havester.NNeighbor object at 0x7f92280d95b0>, <havester.NNeighbor object at 0x7f92280d9670>, <havester.NNeighbor object at 0x7f92280d9730>, <havester.NNeighbor object at 0x7f92280d97f0>, <havester.NNeighbor object at 0x7f92280d98b0>, <havester.NNeighbor object at 0x7f92280d9970>, <havester.NNeighbor object at 0x7f92280d9a30>, <havester.NNeighbor object at 0x7f92280d9af0>, <havester.NNeighbor object at 0x7f92280d9bb0>, <havester.NNeighbor object at 0x7f92280d9c70>, <havester.NNeighbor object at 0x7f92280d9d30>, <havester.NNeighbor object at 0x7f92280d9df0>, <havester.NNeighbor object at 0x7f92280d9eb0>, <havester.NNeighbor object at 0x7f92280d9f70>, <havester.NNeighbor object at 0x7f92280e8070>, <havester.NNeighbor object at 0x7f92280e8130>, <havester.NNeighbor object at 0x7f92280e81f0>, <havester.NNeighbor object at 0x7f92280e82b0>, <havester.NNeighbor object at 0x7f92280e8370>, <havester.NNeighbor object at 0x7f92280e8430>, <havester.NNeighbor object at 0x7f92280e84f0>, <havester.NNeighbor object at 0x7f92280e85b0>, <havester.NNeighbor object at 0x7f92280e8670>, <havester.NNeighbor object at 0x7f92280e8730>, <havester.NNeighbor object at 0x7f92280e87f0>, <havester.NNeighbor object at 0x7f92280e88b0>, <havester.NNeighbor object at 0x7f92280e8970>, <havester.NNeighbor object at 0x7f92280e8a30>, <havester.NNeighbor object at 0x7f92280e8af0>, <havester.NNeighbor object at 0x7f92280e8bb0>, <havester.NNeighbor object at 0x7f92280e8c70>, <havester.NNeighbor object at 0x7f92280e8d30>, <havester.NNeighbor object at 0x7f92280e8df0>, <havester.NNeighbor object at 0x7f92280e8eb0>, <havester.NNeighbor object at 0x7f92280e8f70>, <havester.NNeighbor object at 0x7f92280eb070>, <havester.NNeighbor object at 0x7f92280eb130>, <havester.NNeighbor object at 0x7f92280eb1f0>, <havester.NNeighbor object at 0x7f92280eb2b0>, <havester.NNeighbor object at 0x7f92280eb370>, <havester.NNeighbor object at 0x7f92280eb430>, <havester.NNeighbor object at 0x7f92280eb4f0>, <havester.NNeighbor object at 0x7f92280eb5b0>, <havester.NNeighbor object at 0x7f92280eb670>, <havester.NNeighbor object at 0x7f92280eb730>, <havester.NNeighbor object at 0x7f92280eb7f0>, <havester.NNeighbor object at 0x7f92280eb8b0>, <havester.NNeighbor object at 0x7f92280eb970>, <havester.NNeighbor object at 0x7f92280eba30>, <havester.NNeighbor object at 0x7f92280ebaf0>, <havester.NNeighbor object at 0x7f92280ebbb0>, <havester.NNeighbor object at 0x7f92280ebc70>, <havester.NNeighbor object at 0x7f92280ebd00>, <havester.NNeighbor object at 0x7f92280ebd30>, <havester.NNeighbor object at 0x7f92280ebf40>, <havester.NNeighbor object at 0x7f92280ebeb0>, <havester.NNeighbor object at 0x7f92280dc040>, <havester.NNeighbor object at 0x7f92280dc130>, <havester.NNeighbor object at 0x7f92280dc3a0>, <havester.NNeighbor object at 0x7f92280dc670>, <havester.NNeighbor object at 0x7f92280dc820>, <havester.NNeighbor object at 0x7f92280dc7f0>, <havester.NNeighbor object at 0x7f92280dc220>, <havester.NNeighbor object at 0x7f92280dc1c0>, <havester.NNeighbor object at 0x7f92280dc520>, <havester.NNeighbor object at 0x7f92280dc760>, <havester.NNeighbor object at 0x7f92280dcaf0>, <havester.NNeighbor object at 0x7f92280dcbe0>, <havester.NNeighbor object at 0x7f92280dceb0>, <havester.NNeighbor object at 0x7f92280dc4c0>, <havester.NNeighbor object at 0x7f92280dc910>, <havester.NNeighbor object at 0x7f92280dcca0>, <havester.NNeighbor object at 0x7f92280dcc10>, <havester.NNeighbor object at 0x7f92280dca00>, <havester.NNeighbor object at 0x7f92280dcd90>, <havester.NNeighbor object at 0x7f92280dce20>, <havester.NNeighbor object at 0x7f92280dc880>, <havester.NNeighbor object at 0x7f92280e01c0>, <havester.NNeighbor object at 0x7f92280e0310>, <havester.NNeighbor object at 0x7f92280e02e0>, <havester.NNeighbor object at 0x7f92280e02b0>, <havester.NNeighbor object at 0x7f92280e03a0>, <havester.NNeighbor object at 0x7f92280e0460>, <havester.NNeighbor object at 0x7f92280e0520>, <havester.NNeighbor object at 0x7f92280e05e0>, <havester.NNeighbor object at 0x7f92280e06a0>, <havester.NNeighbor object at 0x7f92280e0760>, <havester.NNeighbor object at 0x7f92280e0820>, <havester.NNeighbor object at 0x7f92280e08e0>, <havester.NNeighbor object at 0x7f92280e09a0>, <havester.NNeighbor object at 0x7f92280e0a60>, <havester.NNeighbor object at 0x7f92280e0b20>, <havester.NNeighbor object at 0x7f92280e0be0>, <havester.NNeighbor object at 0x7f92280e0ca0>, <havester.NNeighbor object at 0x7f92280e0d60>, <havester.NNeighbor object at 0x7f92280e0e20>, <havester.NNeighbor object at 0x7f92280e0ee0>, <havester.NNeighbor object at 0x7f92280e0fa0>, <havester.NNeighbor object at 0x7f92280db0a0>, <havester.NNeighbor object at 0x7f92280db160>, <havester.NNeighbor object at 0x7f92280db220>, <havester.NNeighbor object at 0x7f92280db2e0>, <havester.NNeighbor object at 0x7f92280db3a0>, <havester.NNeighbor object at 0x7f92280db460>, <havester.NNeighbor object at 0x7f92280db520>, <havester.NNeighbor object at 0x7f92280db5e0>, <havester.NNeighbor object at 0x7f92280db6a0>, <havester.NNeighbor object at 0x7f92280db760>, <havester.NNeighbor object at 0x7f92280db820>, <havester.NNeighbor object at 0x7f92280db8e0>, <havester.NNeighbor object at 0x7f92280db9a0>, <havester.NNeighbor object at 0x7f92280dba60>, <havester.NNeighbor object at 0x7f92280dbb20>, <havester.NNeighbor object at 0x7f92280dbbe0>, <havester.NNeighbor object at 0x7f92280dbca0>, <havester.NNeighbor object at 0x7f92280dbd60>, <havester.NNeighbor object at 0x7f92280dbe20>, <havester.NNeighbor object at 0x7f92280dbee0>, <havester.NNeighbor object at 0x7f92280dbfa0>, <havester.NNeighbor object at 0x7f92280f60a0>, <havester.NNeighbor object at 0x7f92280f6160>, <havester.NNeighbor object at 0x7f92280f6220>, <havester.NNeighbor object at 0x7f92280f62e0>, <havester.NNeighbor object at 0x7f92280f63a0>, <havester.NNeighbor object at 0x7f92280f6460>, <havester.NNeighbor object at 0x7f92280f6520>, <havester.NNeighbor object at 0x7f92280f65e0>, <havester.NNeighbor object at 0x7f92280f66a0>, <havester.NNeighbor object at 0x7f92280f6760>, <havester.NNeighbor object at 0x7f92280f6820>, <havester.NNeighbor object at 0x7f92280f68e0>, <havester.NNeighbor object at 0x7f92280f69a0>, <havester.NNeighbor object at 0x7f92280f6a60>, <havester.NNeighbor object at 0x7f92280f6b20>, <havester.NNeighbor object at 0x7f92280f6be0>, <havester.NNeighbor object at 0x7f92280f6ca0>, <havester.NNeighbor object at 0x7f92280f6d60>, <havester.NNeighbor object at 0x7f92280f6e20>, <havester.NNeighbor object at 0x7f92280f6ee0>, <havester.NNeighbor object at 0x7f92280f6fa0>, <havester.NNeighbor object at 0x7f92280e20a0>, <havester.NNeighbor object at 0x7f92280e2160>, <havester.NNeighbor object at 0x7f92280e2220>, <havester.NNeighbor object at 0x7f92280e22e0>, <havester.NNeighbor object at 0x7f92280e23a0>, <havester.NNeighbor object at 0x7f92280e2460>, <havester.NNeighbor object at 0x7f92280e2520>, <havester.NNeighbor object at 0x7f92280e25e0>, <havester.NNeighbor object at 0x7f92280e26a0>, <havester.NNeighbor object at 0x7f92280e2760>, <havester.NNeighbor object at 0x7f92280e2820>, <havester.NNeighbor object at 0x7f92280e28e0>, <havester.NNeighbor object at 0x7f92280e29a0>, <havester.NNeighbor object at 0x7f92280e2dc0>, <havester.NNeighbor object at 0x7f92280e2d00>, <havester.NNeighbor object at 0x7f92280e2ac0>, <havester.NNeighbor object at 0x7f92280e2d90>, <havester.NNeighbor object at 0x7f92280e2f70>, <havester.NNeighbor object at 0x7f92280e2ca0>, <havester.NNeighbor object at 0x7f92280e2c10>, <havester.NNeighbor object at 0x7f92280e2a60>, <havester.NNeighbor object at 0x7f92280e6160>, <havester.NNeighbor object at 0x7f92280e6250>, <havester.NNeighbor object at 0x7f92280e6490>, <havester.NNeighbor object at 0x7f92280e6310>, <havester.NNeighbor object at 0x7f92280e6040>, <havester.NNeighbor object at 0x7f92280e63d0>, <havester.NNeighbor object at 0x7f92280e6070>, <havester.NNeighbor object at 0x7f92280e65e0>, <havester.NNeighbor object at 0x7f92280e66a0>, <havester.NNeighbor object at 0x7f92280e6760>, <havester.NNeighbor object at 0x7f92280e6820>, <havester.NNeighbor object at 0x7f92280e68e0>, <havester.NNeighbor object at 0x7f92280e69a0>, <havester.NNeighbor object at 0x7f92280e6a60>, <havester.NNeighbor object at 0x7f92280e6b20>, <havester.NNeighbor object at 0x7f92280e6be0>, <havester.NNeighbor object at 0x7f92280e6ca0>, <havester.NNeighbor object at 0x7f92280e6d60>, <havester.NNeighbor object at 0x7f92280e6e20>, <havester.NNeighbor object at 0x7f92280e6ee0>, <havester.NNeighbor object at 0x7f92280e6fa0>, <havester.NNeighbor object at 0x7f92280ed0a0>, <havester.NNeighbor object at 0x7f92280ed160>, <havester.NNeighbor object at 0x7f92280ed220>, <havester.NNeighbor object at 0x7f92280ed2e0>, <havester.NNeighbor object at 0x7f92280ed3a0>, <havester.NNeighbor object at 0x7f92280ed460>, <havester.NNeighbor object at 0x7f92280ed520>, <havester.NNeighbor object at 0x7f92280ed5e0>, <havester.NNeighbor object at 0x7f92280ed6a0>, <havester.NNeighbor object at 0x7f92280ed760>, <havester.NNeighbor object at 0x7f92280ed820>, <havester.NNeighbor object at 0x7f92280ed8e0>, <havester.NNeighbor object at 0x7f92280ed9a0>, <havester.NNeighbor object at 0x7f92280eda60>, <havester.NNeighbor object at 0x7f92280ede80>, <havester.NNeighbor object at 0x7f92280eddc0>, <havester.NNeighbor object at 0x7f92280edb80>, <havester.NNeighbor object at 0x7f92280ede50>, <havester.NNeighbor object at 0x7f92280edd00>, <havester.NNeighbor object at 0x7f92280edca0>, <havester.NNeighbor object at 0x7f92280edaf0>, <havester.NNeighbor object at 0x7f92280f2220>, <havester.NNeighbor object at 0x7f92280f2310>, <havester.NNeighbor object at 0x7f92280f2460>, <havester.NNeighbor object at 0x7f92280f23d0>, <havester.NNeighbor object at 0x7f92280f2070>, <havester.NNeighbor object at 0x7f92280f22b0>, <havester.NNeighbor object at 0x7f92280f2520>, <havester.NNeighbor object at 0x7f92280f2130>, <havester.NNeighbor object at 0x7f92280f26a0>, <havester.NNeighbor object at 0x7f92280f2760>, <havester.NNeighbor object at 0x7f92280f2820>, <havester.NNeighbor object at 0x7f92280f28e0>, <havester.NNeighbor object at 0x7f92280f29a0>, <havester.NNeighbor object at 0x7f92280f2a60>, <havester.NNeighbor object at 0x7f92280f2b20>, <havester.NNeighbor object at 0x7f92280f2be0>, <havester.NNeighbor object at 0x7f92280f2ca0>, <havester.NNeighbor object at 0x7f92280f2d60>, <havester.NNeighbor object at 0x7f92280f2e20>, <havester.NNeighbor object at 0x7f92280f2ee0>, <havester.NNeighbor object at 0x7f92280f2fa0>, <havester.NNeighbor object at 0x7f92280ef0a0>, <havester.NNeighbor object at 0x7f92280ef160>, <havester.NNeighbor object at 0x7f92280ef220>, <havester.NNeighbor object at 0x7f92280ef2e0>, <havester.NNeighbor object at 0x7f92280ef3a0>, <havester.NNeighbor object at 0x7f92280ef460>, <havester.NNeighbor object at 0x7f92280ef520>, <havester.NNeighbor object at 0x7f92280ef5e0>, <havester.NNeighbor object at 0x7f92280ef6a0>, <havester.NNeighbor object at 0x7f92280ef760>, <havester.NNeighbor object at 0x7f92280ef820>, <havester.NNeighbor object at 0x7f92280ef8e0>, <havester.NNeighbor object at 0x7f92280ef9a0>, <havester.NNeighbor object at 0x7f92280efa60>, <havester.NNeighbor object at 0x7f92280efb20>, <havester.NNeighbor object at 0x7f92280efbe0>, <havester.NNeighbor object at 0x7f92280efca0>, <havester.NNeighbor object at 0x7f92280efd30>, <havester.NNeighbor object at 0x7f92280efe50>, <havester.NNeighbor object at 0x7f92280effa0>, <havester.NNeighbor object at 0x7f92280efd60>, <havester.NNeighbor object at 0x7f92380e2070>, <havester.NNeighbor object at 0x7f92380e2160>, <havester.NNeighbor object at 0x7f92380e2460>, <havester.NNeighbor object at 0x7f92380e2760>, <havester.NNeighbor object at 0x7f92380e2610>]\n"
     ]
    }
   ],
   "source": [
    "print(neighbors)"
   ]
  },
  {
   "cell_type": "markdown",
   "id": "91754661",
   "metadata": {},
   "source": [
    "## 시각화"
   ]
  },
  {
   "cell_type": "code",
   "execution_count": null,
   "id": "2c1cca24",
   "metadata": {},
   "outputs": [],
   "source": [
    "# thing_df = pd.DataFrame(data=things ,columns=hv.NThing.HEADER)\n",
    "# thing_df.head(5)"
   ]
  }
 ],
 "metadata": {
  "kernelspec": {
   "display_name": "Python 3 (ipykernel)",
   "language": "python",
   "name": "python3"
  },
  "language_info": {
   "codemirror_mode": {
    "name": "ipython",
    "version": 3
   },
   "file_extension": ".py",
   "mimetype": "text/x-python",
   "name": "python",
   "nbconvert_exporter": "python",
   "pygments_lexer": "ipython3",
   "version": "3.9.7"
  }
 },
 "nbformat": 4,
 "nbformat_minor": 5
}

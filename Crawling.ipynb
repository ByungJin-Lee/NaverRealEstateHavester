{
 "cells": [
  {
   "cell_type": "markdown",
   "id": "5db8b910",
   "metadata": {},
   "source": [
    "# How to crawling? - Naver Real Estate Map"
   ]
  },
  {
   "cell_type": "code",
   "execution_count": 1,
   "id": "cd47a736",
   "metadata": {},
   "outputs": [],
   "source": [
    "#import custom module\n",
    "import nre.con as nc\n",
    "import nre.util as nu\n",
    "from IPython.display import clear_output \n",
    "from matplotlib import pyplot as plt\n",
    "import seaborn as sns\n",
    "import cv2\n",
    "\n",
    "sns.set(rc={'figure.figsize':(11.7,8.27)})\n",
    "\n",
    "nu.IS_LOGGING = False"
   ]
  },
  {
   "cell_type": "markdown",
   "id": "2a3d422e",
   "metadata": {},
   "source": [
    "## 위치을 이용하여 구역 특정"
   ]
  },
  {
   "cell_type": "code",
   "execution_count": 2,
   "id": "ffb15a7f",
   "metadata": {},
   "outputs": [],
   "source": [
    "#loc = nc.NLocation(35.18213, 128.1366) # 진주 충무공동\n",
    "loc = nc.NLocation(37.49911, 127.065463) # 강남 대치동\n",
    "\n",
    "#https://new.land.naver.com/complexes?ms=37.49911,127.065463,16&a=APT:OPST&b=B1:A1&e=RETAIL&s=EE\n",
    "\n",
    "cur_region = nc.NRegion('', loc, '0000000000')\n",
    "\n",
    "# 검색해서 지역 찾기\n",
    "# while True:\n",
    "#     regions = nu.get_region_list(cur_region.no)\n",
    "#     if len(regions) == 0: break\n",
    "#     for i, region in enumerate(regions): \n",
    "#         print(i, region)\n",
    "        \n",
    "#     idx = int(input(\"원하는 도시 인덱스(exit -1) : \"))\n",
    "#     clear_output()\n",
    "#     if idx == -1: break\n",
    "#     cur_region = regions[idx]"
   ]
  },
  {
   "cell_type": "code",
   "execution_count": 3,
   "id": "e77444e5",
   "metadata": {},
   "outputs": [
    {
     "name": "stdout",
     "output_type": "stream",
     "text": [
      "서울시 강남구 대치동 1168010600 loc(37.499110 | 127.065463)\n"
     ]
    },
    {
     "data": {
      "text/plain": [
       "<matplotlib.image.AxesImage at 0x7ff2ea40e730>"
      ]
     },
     "execution_count": 3,
     "metadata": {},
     "output_type": "execute_result"
    },
    {
     "data": {
      "image/png": "[encoded data removed]",
      "text/plain": [
       "<Figure size 842.4x595.44 with 1 Axes>"
      ]
     },
     "metadata": {},
     "output_type": "display_data"
    }
   ],
   "source": [
    "sector = nu.get_sector(cur_region.loc)\n",
    "dm = sector.map.get_dimension()\n",
    "print(sector)\n",
    "\n",
    "plt.imshow(cv2.rotate(dm.get_bg_img(), cv2.ROTATE_90_COUNTERCLOCKWISE))"
   ]
  },
  {
   "cell_type": "markdown",
   "id": "c77a18a0",
   "metadata": {},
   "source": [
    "## 매물 조건 생성"
   ]
  },
  {
   "cell_type": "code",
   "execution_count": 4,
   "id": "b430e202",
   "metadata": {},
   "outputs": [],
   "source": [
    "addon = nc.NAddon(\n",
    "    #direction=nc.NAddon.DIR_EACH, #전 방향 탐색의 경우 사용 - 아래 로직을 바꾸세요\n",
    "    tradeType=[nc.NAddon.TRADE_DEAL, nc.NAddon.TRADE_LEASE], #목표 거래 - 매매, 전세\n",
    "    estateType=[nc.NAddon.ESTATE_APT, nc.NAddon.ESTATE_OPST] #목표 매물 - 아파트, 오피스텔\n",
    ")"
   ]
  },
  {
   "cell_type": "markdown",
   "id": "b1cad866",
   "metadata": {},
   "source": [
    "## 조건과 구역을 이용하여 매물 탐색"
   ]
  },
  {
   "cell_type": "code",
   "execution_count": 5,
   "id": "51dfe780",
   "metadata": {},
   "outputs": [
    {
     "name": "stdout",
     "output_type": "stream",
     "text": [
      "매물 수 142\n"
     ]
    }
   ],
   "source": [
    "things = [] # 매물\n",
    "removed = 0\n",
    "for dirr in nc.NAddon.DIR_EACH: # 모든 방향 (남향 등등)\n",
    "    addon.dir = dirr # 방향 조건 선택\n",
    "    things.extend(nu.get_things(sector, addon)) # 매물 저장\n",
    "print('매물 수', len(things))"
   ]
  },
  {
   "cell_type": "markdown",
   "id": "9bd65b50",
   "metadata": {},
   "source": [
    "## 구역 주변 편의 시설 탐색"
   ]
  },
  {
   "cell_type": "code",
   "execution_count": 6,
   "id": "eada1736",
   "metadata": {},
   "outputs": [
    {
     "name": "stdout",
     "output_type": "stream",
     "text": [
      "BUS 59\n",
      "METRO 3\n",
      "INFANT 41\n",
      "PRESCHOOL 5\n",
      "SCHOOLPOI 8\n",
      "HOSPITAL 0\n",
      "PARKING 77\n",
      "MART 14\n",
      "CONVENIENCE 87\n",
      "WASHING 43\n",
      "BANK 45\n",
      "OFFICE 9\n",
      "Total 391\n"
     ]
    }
   ],
   "source": [
    "neighbors = [] # 편의시설 기록\n",
    "for nType in nc.NNeighbor.EACH: # 모든 편의시설\n",
    "    values = nu.get_neighborhood(sector, nType)\n",
    "    neighbors.extend(values)\n",
    "    print(nType, len(values))\n",
    "print('Total', len(neighbors))"
   ]
  },
  {
   "cell_type": "markdown",
   "id": "54166206",
   "metadata": {},
   "source": [
    "# 편의시설과 매물 간의 거리 탐색"
   ]
  },
  {
   "cell_type": "code",
   "execution_count": 7,
   "id": "18497c96",
   "metadata": {},
   "outputs": [
    {
     "name": "stdout",
     "output_type": "stream",
     "text": [
      "BUS 500 m\n",
      "METRO 500 m\n",
      "INFANT 750 m\n",
      "PRESCHOOL 750 m\n",
      "PRI_SCHOOL 1000 m\n",
      "PUB_SCHOOL 1000 m\n",
      "HOSPITAL 2000 m\n",
      "PARKING 500 m\n",
      "MART 500 m\n",
      "CONVENIENCE 300 m\n",
      "WASHING 500 m\n",
      "BANK 750 m\n",
      "OFFICE 1500 m\n"
     ]
    }
   ],
   "source": [
    "# 500 == 걸어서 5~10분 이내, 버스로 1분\n",
    "# 1000 == 버스로 1~2분 \n",
    "\n",
    "standard = nu.get_distance_standard() # 거리 기준\n",
    "\n",
    "for (key, value) in standard.items():\n",
    "    print(key, value, 'm')\n",
    "\n",
    "nu.update_things_intersection(things, neighbors, standard)"
   ]
  },
  {
   "cell_type": "markdown",
   "id": "baab1ca2",
   "metadata": {},
   "source": [
    "## 시각화"
   ]
  },
  {
   "cell_type": "code",
   "execution_count": 8,
   "id": "2b77b599",
   "metadata": {},
   "outputs": [
    {
     "name": "stdout",
     "output_type": "stream",
     "text": [
      "Dusts 533\n",
      "APT\t(0, 255, 0)\n",
      "ABYG\t(0, 255, 0)\n",
      "OPST\t(255, 0, 0)\n",
      "OBYG\t(255, 0, 0)\n",
      "JGB\t(0, 0, 255)\n",
      "JGC\t(0, 0, 255)\n",
      "BUS\t(0, 255, 255)\n",
      "METRO\t(0, 255, 255)\n",
      "INFANT\t(255, 255, 0)\n",
      "PRESCHOOL\t(255, 255, 0)\n",
      "PRI_SCHOOL\t(0, 0, 0)\n",
      "PUB_SCHOOL\t(0, 0, 0)\n",
      "HOSPITAL\t(0, 0, 0)\n",
      "PARKING\t(0, 0, 0)\n",
      "MART\t(0, 0, 0)\n",
      "CONVENIENCE\t(0, 0, 0)\n",
      "WASHING\t(0, 0, 0)\n",
      "BANK\t(0, 0, 0)\n",
      "OFFICE\t(0, 0, 0)\n"
     ]
    },
    {
     "data": {
      "text/plain": [
       "<matplotlib.image.AxesImage at 0x7ff2d8434eb0>"
      ]
     },
     "execution_count": 8,
     "metadata": {},
     "output_type": "execute_result"
    },
    {
     "data": {
      "image/png": "[encoded data removed]",
      "text/plain": [
       "<Figure size 842.4x595.44 with 1 Axes>"
      ]
     },
     "metadata": {},
     "output_type": "display_data"
    }
   ],
   "source": [
    "dm = sector.map.get_dimension()\n",
    "\n",
    "dusts = nu.neighbors_to_dusts(neighbors, dm) # lat, lon -> 좌표 축소\n",
    "dusts.extend(nu.things_to_dusts(things, dm)) # lat, lon -> 좌표 축소\n",
    "\n",
    "color_tag = nc.NDimension.get_default_tag_color() # tag에 컬러를 연결\n",
    "\n",
    "print('Dusts', len(dusts))\n",
    "for key,value in color_tag.items():\n",
    "    print(key, value, sep='\\t')\n",
    "\n",
    "plt.imshow(cv2.rotate(dm.get_img(dusts, color_tag), cv2.ROTATE_90_COUNTERCLOCKWISE)) # 출력"
   ]
  },
  {
   "cell_type": "markdown",
   "id": "eeb8a4ed",
   "metadata": {},
   "source": [
    "## Dataframe"
   ]
  },
  {
   "cell_type": "code",
   "execution_count": 10,
   "id": "2ef8069b",
   "metadata": {},
   "outputs": [],
   "source": [
    "import pandas as pd\n",
    "\n",
    "def old_classifier(x): #old 구분\n",
    "    value = abs(int(x[0:4]) - 2022)\n",
    "    if value <= 5:\n",
    "        return 'New'\n",
    "    elif value <= 10:\n",
    "        return 'Common'\n",
    "    return 'Old'"
   ]
  },
  {
   "cell_type": "code",
   "execution_count": 11,
   "id": "a7ba69af",
   "metadata": {},
   "outputs": [
    {
     "data": {
      "text/html": [
       "<div>\n",
       "<style scoped>\n",
       "    .dataframe tbody tr th:only-of-type {\n",
       "        vertical-align: middle;\n",
       "    }\n",
       "\n",
       "    .dataframe tbody tr th {\n",
       "        vertical-align: top;\n",
       "    }\n",
       "\n",
       "    .dataframe thead th {\n",
       "        text-align: right;\n",
       "    }\n",
       "</style>\n",
       "<table border=\"1\" class=\"dataframe\">\n",
       "  <thead>\n",
       "    <tr style=\"text-align: right;\">\n",
       "      <th></th>\n",
       "      <th>Name</th>\n",
       "      <th>Type</th>\n",
       "      <th>Build</th>\n",
       "      <th>Dir</th>\n",
       "      <th>minArea</th>\n",
       "      <th>maxArea</th>\n",
       "      <th>representativeArea</th>\n",
       "      <th>floorAreaRatio</th>\n",
       "      <th>minDeal</th>\n",
       "      <th>maxDeal</th>\n",
       "      <th>...</th>\n",
       "      <th>MART</th>\n",
       "      <th>CONVENIENCE</th>\n",
       "      <th>WASHING</th>\n",
       "      <th>BANK</th>\n",
       "      <th>OFFICE</th>\n",
       "      <th>PRI_SCHOOL</th>\n",
       "      <th>PUB_SCHOOL</th>\n",
       "      <th>Old</th>\n",
       "      <th>sector</th>\n",
       "      <th>city</th>\n",
       "    </tr>\n",
       "  </thead>\n",
       "  <tbody>\n",
       "    <tr>\n",
       "      <th>0</th>\n",
       "      <td>세영팔래스</td>\n",
       "      <td>APT</td>\n",
       "      <td>200201</td>\n",
       "      <td>EE</td>\n",
       "      <td>73.77</td>\n",
       "      <td>103.37</td>\n",
       "      <td>103.0</td>\n",
       "      <td>237</td>\n",
       "      <td>175000.0</td>\n",
       "      <td>200000.0</td>\n",
       "      <td>...</td>\n",
       "      <td>1</td>\n",
       "      <td>12</td>\n",
       "      <td>12</td>\n",
       "      <td>34</td>\n",
       "      <td>7</td>\n",
       "      <td>1</td>\n",
       "      <td>2</td>\n",
       "      <td>Old</td>\n",
       "      <td>대치동</td>\n",
       "      <td>서울시</td>\n",
       "    </tr>\n",
       "    <tr>\n",
       "      <th>1</th>\n",
       "      <td>삼환SOGOOD(주상복합)</td>\n",
       "      <td>APT</td>\n",
       "      <td>200611</td>\n",
       "      <td>EE</td>\n",
       "      <td>107.38</td>\n",
       "      <td>133.52</td>\n",
       "      <td>133.0</td>\n",
       "      <td>359</td>\n",
       "      <td>220000.0</td>\n",
       "      <td>220000.0</td>\n",
       "      <td>...</td>\n",
       "      <td>4</td>\n",
       "      <td>11</td>\n",
       "      <td>10</td>\n",
       "      <td>35</td>\n",
       "      <td>6</td>\n",
       "      <td>1</td>\n",
       "      <td>4</td>\n",
       "      <td>Old</td>\n",
       "      <td>대치동</td>\n",
       "      <td>서울시</td>\n",
       "    </tr>\n",
       "    <tr>\n",
       "      <th>2</th>\n",
       "      <td>대치대우아이빌명문가(주상복합)</td>\n",
       "      <td>APT</td>\n",
       "      <td>200402</td>\n",
       "      <td>EE</td>\n",
       "      <td>41.88</td>\n",
       "      <td>53.58</td>\n",
       "      <td>41.0</td>\n",
       "      <td>637</td>\n",
       "      <td>31000.0</td>\n",
       "      <td>38000.0</td>\n",
       "      <td>...</td>\n",
       "      <td>3</td>\n",
       "      <td>16</td>\n",
       "      <td>9</td>\n",
       "      <td>18</td>\n",
       "      <td>6</td>\n",
       "      <td>1</td>\n",
       "      <td>1</td>\n",
       "      <td>Old</td>\n",
       "      <td>대치동</td>\n",
       "      <td>서울시</td>\n",
       "    </tr>\n",
       "    <tr>\n",
       "      <th>3</th>\n",
       "      <td>대치대우아이빌명문가</td>\n",
       "      <td>OPST</td>\n",
       "      <td>200402</td>\n",
       "      <td>EE</td>\n",
       "      <td>57.05</td>\n",
       "      <td>59.01</td>\n",
       "      <td>57.0</td>\n",
       "      <td>637</td>\n",
       "      <td>31000.0</td>\n",
       "      <td>32000.0</td>\n",
       "      <td>...</td>\n",
       "      <td>3</td>\n",
       "      <td>16</td>\n",
       "      <td>9</td>\n",
       "      <td>18</td>\n",
       "      <td>6</td>\n",
       "      <td>1</td>\n",
       "      <td>1</td>\n",
       "      <td>Old</td>\n",
       "      <td>대치동</td>\n",
       "      <td>서울시</td>\n",
       "    </tr>\n",
       "    <tr>\n",
       "      <th>4</th>\n",
       "      <td>동양</td>\n",
       "      <td>APT</td>\n",
       "      <td>199901</td>\n",
       "      <td>EE</td>\n",
       "      <td>112.14</td>\n",
       "      <td>112.14</td>\n",
       "      <td>112.0</td>\n",
       "      <td>223</td>\n",
       "      <td>NaN</td>\n",
       "      <td>NaN</td>\n",
       "      <td>...</td>\n",
       "      <td>4</td>\n",
       "      <td>10</td>\n",
       "      <td>12</td>\n",
       "      <td>24</td>\n",
       "      <td>6</td>\n",
       "      <td>1</td>\n",
       "      <td>1</td>\n",
       "      <td>Old</td>\n",
       "      <td>대치동</td>\n",
       "      <td>서울시</td>\n",
       "    </tr>\n",
       "    <tr>\n",
       "      <th>...</th>\n",
       "      <td>...</td>\n",
       "      <td>...</td>\n",
       "      <td>...</td>\n",
       "      <td>...</td>\n",
       "      <td>...</td>\n",
       "      <td>...</td>\n",
       "      <td>...</td>\n",
       "      <td>...</td>\n",
       "      <td>...</td>\n",
       "      <td>...</td>\n",
       "      <td>...</td>\n",
       "      <td>...</td>\n",
       "      <td>...</td>\n",
       "      <td>...</td>\n",
       "      <td>...</td>\n",
       "      <td>...</td>\n",
       "      <td>...</td>\n",
       "      <td>...</td>\n",
       "      <td>...</td>\n",
       "      <td>...</td>\n",
       "      <td>...</td>\n",
       "    </tr>\n",
       "    <tr>\n",
       "      <th>137</th>\n",
       "      <td>동양</td>\n",
       "      <td>APT</td>\n",
       "      <td>199901</td>\n",
       "      <td>WN</td>\n",
       "      <td>112.14</td>\n",
       "      <td>112.14</td>\n",
       "      <td>112.0</td>\n",
       "      <td>223</td>\n",
       "      <td>NaN</td>\n",
       "      <td>NaN</td>\n",
       "      <td>...</td>\n",
       "      <td>4</td>\n",
       "      <td>10</td>\n",
       "      <td>12</td>\n",
       "      <td>24</td>\n",
       "      <td>6</td>\n",
       "      <td>1</td>\n",
       "      <td>1</td>\n",
       "      <td>Old</td>\n",
       "      <td>대치동</td>\n",
       "      <td>서울시</td>\n",
       "    </tr>\n",
       "    <tr>\n",
       "      <th>138</th>\n",
       "      <td>대치클래시아</td>\n",
       "      <td>OPST</td>\n",
       "      <td>201512</td>\n",
       "      <td>WN</td>\n",
       "      <td>42.36</td>\n",
       "      <td>61.63</td>\n",
       "      <td>61.0</td>\n",
       "      <td>0</td>\n",
       "      <td>51000.0</td>\n",
       "      <td>65000.0</td>\n",
       "      <td>...</td>\n",
       "      <td>4</td>\n",
       "      <td>7</td>\n",
       "      <td>8</td>\n",
       "      <td>29</td>\n",
       "      <td>8</td>\n",
       "      <td>1</td>\n",
       "      <td>4</td>\n",
       "      <td>Common</td>\n",
       "      <td>대치동</td>\n",
       "      <td>서울시</td>\n",
       "    </tr>\n",
       "    <tr>\n",
       "      <th>139</th>\n",
       "      <td>바실리체</td>\n",
       "      <td>OPST</td>\n",
       "      <td>202203</td>\n",
       "      <td>WN</td>\n",
       "      <td>67.34</td>\n",
       "      <td>153.29</td>\n",
       "      <td>67.0</td>\n",
       "      <td>799</td>\n",
       "      <td>86000.0</td>\n",
       "      <td>370000.0</td>\n",
       "      <td>...</td>\n",
       "      <td>2</td>\n",
       "      <td>8</td>\n",
       "      <td>8</td>\n",
       "      <td>18</td>\n",
       "      <td>6</td>\n",
       "      <td>1</td>\n",
       "      <td>1</td>\n",
       "      <td>New</td>\n",
       "      <td>대치동</td>\n",
       "      <td>서울시</td>\n",
       "    </tr>\n",
       "    <tr>\n",
       "      <th>140</th>\n",
       "      <td>청원</td>\n",
       "      <td>APT</td>\n",
       "      <td>200502</td>\n",
       "      <td>WN</td>\n",
       "      <td>114.52</td>\n",
       "      <td>114.72</td>\n",
       "      <td>114.0</td>\n",
       "      <td>260</td>\n",
       "      <td>NaN</td>\n",
       "      <td>NaN</td>\n",
       "      <td>...</td>\n",
       "      <td>5</td>\n",
       "      <td>13</td>\n",
       "      <td>12</td>\n",
       "      <td>36</td>\n",
       "      <td>6</td>\n",
       "      <td>1</td>\n",
       "      <td>4</td>\n",
       "      <td>Old</td>\n",
       "      <td>대치동</td>\n",
       "      <td>서울시</td>\n",
       "    </tr>\n",
       "    <tr>\n",
       "      <th>141</th>\n",
       "      <td>로프트아파트먼트대치</td>\n",
       "      <td>OPST</td>\n",
       "      <td>201908</td>\n",
       "      <td>WN</td>\n",
       "      <td>109.62</td>\n",
       "      <td>109.62</td>\n",
       "      <td>109.0</td>\n",
       "      <td>249</td>\n",
       "      <td>109000.0</td>\n",
       "      <td>110000.0</td>\n",
       "      <td>...</td>\n",
       "      <td>2</td>\n",
       "      <td>7</td>\n",
       "      <td>9</td>\n",
       "      <td>22</td>\n",
       "      <td>6</td>\n",
       "      <td>1</td>\n",
       "      <td>1</td>\n",
       "      <td>New</td>\n",
       "      <td>대치동</td>\n",
       "      <td>서울시</td>\n",
       "    </tr>\n",
       "  </tbody>\n",
       "</table>\n",
       "<p>142 rows × 38 columns</p>\n",
       "</div>"
      ],
      "text/plain": [
       "                 Name  Type   Build Dir minArea maxArea  representativeArea  \\\n",
       "0               세영팔래스   APT  200201  EE   73.77  103.37               103.0   \n",
       "1      삼환SOGOOD(주상복합)   APT  200611  EE  107.38  133.52               133.0   \n",
       "2    대치대우아이빌명문가(주상복합)   APT  200402  EE   41.88   53.58                41.0   \n",
       "3          대치대우아이빌명문가  OPST  200402  EE   57.05   59.01                57.0   \n",
       "4                  동양   APT  199901  EE  112.14  112.14               112.0   \n",
       "..                ...   ...     ...  ..     ...     ...                 ...   \n",
       "137                동양   APT  199901  WN  112.14  112.14               112.0   \n",
       "138            대치클래시아  OPST  201512  WN   42.36   61.63                61.0   \n",
       "139              바실리체  OPST  202203  WN   67.34  153.29                67.0   \n",
       "140                청원   APT  200502  WN  114.52  114.72               114.0   \n",
       "141        로프트아파트먼트대치  OPST  201908  WN  109.62  109.62               109.0   \n",
       "\n",
       "     floorAreaRatio   minDeal   maxDeal  ...  MART  CONVENIENCE  WASHING  \\\n",
       "0               237  175000.0  200000.0  ...     1           12       12   \n",
       "1               359  220000.0  220000.0  ...     4           11       10   \n",
       "2               637   31000.0   38000.0  ...     3           16        9   \n",
       "3               637   31000.0   32000.0  ...     3           16        9   \n",
       "4               223       NaN       NaN  ...     4           10       12   \n",
       "..              ...       ...       ...  ...   ...          ...      ...   \n",
       "137             223       NaN       NaN  ...     4           10       12   \n",
       "138               0   51000.0   65000.0  ...     4            7        8   \n",
       "139             799   86000.0  370000.0  ...     2            8        8   \n",
       "140             260       NaN       NaN  ...     5           13       12   \n",
       "141             249  109000.0  110000.0  ...     2            7        9   \n",
       "\n",
       "     BANK  OFFICE  PRI_SCHOOL  PUB_SCHOOL     Old  sector  city  \n",
       "0      34       7           1           2     Old     대치동   서울시  \n",
       "1      35       6           1           4     Old     대치동   서울시  \n",
       "2      18       6           1           1     Old     대치동   서울시  \n",
       "3      18       6           1           1     Old     대치동   서울시  \n",
       "4      24       6           1           1     Old     대치동   서울시  \n",
       "..    ...     ...         ...         ...     ...     ...   ...  \n",
       "137    24       6           1           1     Old     대치동   서울시  \n",
       "138    29       8           1           4  Common     대치동   서울시  \n",
       "139    18       6           1           1     New     대치동   서울시  \n",
       "140    36       6           1           4     Old     대치동   서울시  \n",
       "141    22       6           1           1     New     대치동   서울시  \n",
       "\n",
       "[142 rows x 38 columns]"
      ]
     },
     "execution_count": 11,
     "metadata": {},
     "output_type": "execute_result"
    }
   ],
   "source": [
    "total_df = pd.DataFrame(data=[t.get_list() for t in things], columns=nc.NThing.HEADER)\n",
    "total_df['Old'] = total_df['Build'].apply(old_classifier)\n",
    "total_df['sector'] = sector.name\n",
    "total_df['city'] = sector.city\n",
    "\n",
    "total_df"
   ]
  },
  {
   "cell_type": "code",
   "execution_count": 12,
   "id": "8dededd4",
   "metadata": {},
   "outputs": [
    {
     "name": "stdout",
     "output_type": "stream",
     "text": [
      "<class 'pandas.core.frame.DataFrame'>\n",
      "RangeIndex: 142 entries, 0 to 141\n",
      "Data columns (total 38 columns):\n",
      " #   Column              Non-Null Count  Dtype  \n",
      "---  ------              --------------  -----  \n",
      " 0   Name                142 non-null    object \n",
      " 1   Type                142 non-null    object \n",
      " 2   Build               142 non-null    object \n",
      " 3   Dir                 142 non-null    object \n",
      " 4   minArea             142 non-null    object \n",
      " 5   maxArea             142 non-null    object \n",
      " 6   representativeArea  142 non-null    float64\n",
      " 7   floorAreaRatio      142 non-null    int64  \n",
      " 8   minDeal             127 non-null    float64\n",
      " 9   maxDeal             127 non-null    float64\n",
      " 10  medianDeal          127 non-null    float64\n",
      " 11  minLease            120 non-null    float64\n",
      " 12  maxLease            120 non-null    float64\n",
      " 13  medianLease         103 non-null    float64\n",
      " 14  minDealUnit         127 non-null    float64\n",
      " 15  maxDealUnit         127 non-null    float64\n",
      " 16  medianDealUnit      127 non-null    float64\n",
      " 17  minLeaseUnit        120 non-null    float64\n",
      " 18  maxLeaseUnit        120 non-null    float64\n",
      " 19  medianLeaseUnit     103 non-null    float64\n",
      " 20  Lat                 142 non-null    float64\n",
      " 21  Lon                 142 non-null    float64\n",
      " 22  BUS                 142 non-null    int64  \n",
      " 23  METRO               142 non-null    int64  \n",
      " 24  INFANT              142 non-null    int64  \n",
      " 25  PRESCHOOL           142 non-null    int64  \n",
      " 26  HOSPITAL            142 non-null    int64  \n",
      " 27  PARKING             142 non-null    int64  \n",
      " 28  MART                142 non-null    int64  \n",
      " 29  CONVENIENCE         142 non-null    int64  \n",
      " 30  WASHING             142 non-null    int64  \n",
      " 31  BANK                142 non-null    int64  \n",
      " 32  OFFICE              142 non-null    int64  \n",
      " 33  PRI_SCHOOL          142 non-null    int64  \n",
      " 34  PUB_SCHOOL          142 non-null    int64  \n",
      " 35  Old                 142 non-null    object \n",
      " 36  sector              142 non-null    object \n",
      " 37  city                142 non-null    object \n",
      "dtypes: float64(15), int64(14), object(9)\n",
      "memory usage: 42.3+ KB\n"
     ]
    }
   ],
   "source": [
    "total_df.info()"
   ]
  },
  {
   "cell_type": "code",
   "execution_count": 13,
   "id": "96cec499",
   "metadata": {},
   "outputs": [
    {
     "data": {
      "text/html": [
       "<div>\n",
       "<style scoped>\n",
       "    .dataframe tbody tr th:only-of-type {\n",
       "        vertical-align: middle;\n",
       "    }\n",
       "\n",
       "    .dataframe tbody tr th {\n",
       "        vertical-align: top;\n",
       "    }\n",
       "\n",
       "    .dataframe thead th {\n",
       "        text-align: right;\n",
       "    }\n",
       "</style>\n",
       "<table border=\"1\" class=\"dataframe\">\n",
       "  <thead>\n",
       "    <tr style=\"text-align: right;\">\n",
       "      <th></th>\n",
       "      <th>representativeArea</th>\n",
       "      <th>floorAreaRatio</th>\n",
       "      <th>minDeal</th>\n",
       "      <th>maxDeal</th>\n",
       "      <th>medianDeal</th>\n",
       "      <th>minLease</th>\n",
       "      <th>maxLease</th>\n",
       "      <th>medianLease</th>\n",
       "      <th>minDealUnit</th>\n",
       "      <th>maxDealUnit</th>\n",
       "      <th>...</th>\n",
       "      <th>PRESCHOOL</th>\n",
       "      <th>HOSPITAL</th>\n",
       "      <th>PARKING</th>\n",
       "      <th>MART</th>\n",
       "      <th>CONVENIENCE</th>\n",
       "      <th>WASHING</th>\n",
       "      <th>BANK</th>\n",
       "      <th>OFFICE</th>\n",
       "      <th>PRI_SCHOOL</th>\n",
       "      <th>PUB_SCHOOL</th>\n",
       "    </tr>\n",
       "  </thead>\n",
       "  <tbody>\n",
       "    <tr>\n",
       "      <th>count</th>\n",
       "      <td>142.000000</td>\n",
       "      <td>142.000000</td>\n",
       "      <td>127.000000</td>\n",
       "      <td>127.000000</td>\n",
       "      <td>127.000000</td>\n",
       "      <td>120.000000</td>\n",
       "      <td>120.000000</td>\n",
       "      <td>103.000000</td>\n",
       "      <td>127.000000</td>\n",
       "      <td>127.000000</td>\n",
       "      <td>...</td>\n",
       "      <td>142.000000</td>\n",
       "      <td>142.0</td>\n",
       "      <td>142.000000</td>\n",
       "      <td>142.000000</td>\n",
       "      <td>142.000000</td>\n",
       "      <td>142.000000</td>\n",
       "      <td>142.000000</td>\n",
       "      <td>142.000000</td>\n",
       "      <td>142.000000</td>\n",
       "      <td>142.000000</td>\n",
       "    </tr>\n",
       "    <tr>\n",
       "      <th>mean</th>\n",
       "      <td>99.070423</td>\n",
       "      <td>354.549296</td>\n",
       "      <td>177212.598425</td>\n",
       "      <td>246629.921260</td>\n",
       "      <td>192350.393701</td>\n",
       "      <td>107439.583333</td>\n",
       "      <td>153129.166667</td>\n",
       "      <td>123475.728155</td>\n",
       "      <td>5654.574803</td>\n",
       "      <td>6537.519685</td>\n",
       "      <td>...</td>\n",
       "      <td>2.056338</td>\n",
       "      <td>0.0</td>\n",
       "      <td>18.584507</td>\n",
       "      <td>2.943662</td>\n",
       "      <td>10.345070</td>\n",
       "      <td>9.281690</td>\n",
       "      <td>25.690141</td>\n",
       "      <td>6.605634</td>\n",
       "      <td>0.978873</td>\n",
       "      <td>2.112676</td>\n",
       "    </tr>\n",
       "    <tr>\n",
       "      <th>std</th>\n",
       "      <td>43.509785</td>\n",
       "      <td>251.068344</td>\n",
       "      <td>120745.214498</td>\n",
       "      <td>169392.087817</td>\n",
       "      <td>132534.924492</td>\n",
       "      <td>70064.383625</td>\n",
       "      <td>101186.957671</td>\n",
       "      <td>79838.819820</td>\n",
       "      <td>2496.299991</td>\n",
       "      <td>2807.494556</td>\n",
       "      <td>...</td>\n",
       "      <td>0.920797</td>\n",
       "      <td>0.0</td>\n",
       "      <td>5.943282</td>\n",
       "      <td>1.433018</td>\n",
       "      <td>5.038921</td>\n",
       "      <td>2.337988</td>\n",
       "      <td>7.161939</td>\n",
       "      <td>1.010286</td>\n",
       "      <td>0.144316</td>\n",
       "      <td>1.310615</td>\n",
       "    </tr>\n",
       "    <tr>\n",
       "      <th>min</th>\n",
       "      <td>32.000000</td>\n",
       "      <td>0.000000</td>\n",
       "      <td>26000.000000</td>\n",
       "      <td>29000.000000</td>\n",
       "      <td>27750.000000</td>\n",
       "      <td>19000.000000</td>\n",
       "      <td>19000.000000</td>\n",
       "      <td>23000.000000</td>\n",
       "      <td>1569.000000</td>\n",
       "      <td>1846.000000</td>\n",
       "      <td>...</td>\n",
       "      <td>1.000000</td>\n",
       "      <td>0.0</td>\n",
       "      <td>4.000000</td>\n",
       "      <td>0.000000</td>\n",
       "      <td>0.000000</td>\n",
       "      <td>4.000000</td>\n",
       "      <td>13.000000</td>\n",
       "      <td>5.000000</td>\n",
       "      <td>0.000000</td>\n",
       "      <td>0.000000</td>\n",
       "    </tr>\n",
       "    <tr>\n",
       "      <th>25%</th>\n",
       "      <td>67.000000</td>\n",
       "      <td>243.000000</td>\n",
       "      <td>71500.000000</td>\n",
       "      <td>107500.000000</td>\n",
       "      <td>78625.000000</td>\n",
       "      <td>65000.000000</td>\n",
       "      <td>70000.000000</td>\n",
       "      <td>67500.000000</td>\n",
       "      <td>3474.500000</td>\n",
       "      <td>4011.000000</td>\n",
       "      <td>...</td>\n",
       "      <td>1.000000</td>\n",
       "      <td>0.0</td>\n",
       "      <td>16.000000</td>\n",
       "      <td>2.000000</td>\n",
       "      <td>7.000000</td>\n",
       "      <td>8.000000</td>\n",
       "      <td>19.000000</td>\n",
       "      <td>6.000000</td>\n",
       "      <td>1.000000</td>\n",
       "      <td>1.000000</td>\n",
       "    </tr>\n",
       "    <tr>\n",
       "      <th>50%</th>\n",
       "      <td>94.000000</td>\n",
       "      <td>267.500000</td>\n",
       "      <td>185000.000000</td>\n",
       "      <td>220000.000000</td>\n",
       "      <td>185000.000000</td>\n",
       "      <td>100000.000000</td>\n",
       "      <td>117500.000000</td>\n",
       "      <td>110000.000000</td>\n",
       "      <td>5797.000000</td>\n",
       "      <td>6494.000000</td>\n",
       "      <td>...</td>\n",
       "      <td>2.000000</td>\n",
       "      <td>0.0</td>\n",
       "      <td>19.000000</td>\n",
       "      <td>3.000000</td>\n",
       "      <td>11.000000</td>\n",
       "      <td>9.000000</td>\n",
       "      <td>25.000000</td>\n",
       "      <td>6.000000</td>\n",
       "      <td>1.000000</td>\n",
       "      <td>2.000000</td>\n",
       "    </tr>\n",
       "    <tr>\n",
       "      <th>75%</th>\n",
       "      <td>124.000000</td>\n",
       "      <td>434.000000</td>\n",
       "      <td>252500.000000</td>\n",
       "      <td>370000.000000</td>\n",
       "      <td>260000.000000</td>\n",
       "      <td>140000.000000</td>\n",
       "      <td>220000.000000</td>\n",
       "      <td>162500.000000</td>\n",
       "      <td>7988.500000</td>\n",
       "      <td>8531.000000</td>\n",
       "      <td>...</td>\n",
       "      <td>3.000000</td>\n",
       "      <td>0.0</td>\n",
       "      <td>23.000000</td>\n",
       "      <td>4.000000</td>\n",
       "      <td>14.000000</td>\n",
       "      <td>10.750000</td>\n",
       "      <td>31.000000</td>\n",
       "      <td>7.000000</td>\n",
       "      <td>1.000000</td>\n",
       "      <td>3.000000</td>\n",
       "    </tr>\n",
       "    <tr>\n",
       "      <th>max</th>\n",
       "      <td>225.000000</td>\n",
       "      <td>1096.000000</td>\n",
       "      <td>505000.000000</td>\n",
       "      <td>560000.000000</td>\n",
       "      <td>510000.000000</td>\n",
       "      <td>450000.000000</td>\n",
       "      <td>450000.000000</td>\n",
       "      <td>450000.000000</td>\n",
       "      <td>10093.000000</td>\n",
       "      <td>11702.000000</td>\n",
       "      <td>...</td>\n",
       "      <td>4.000000</td>\n",
       "      <td>0.0</td>\n",
       "      <td>34.000000</td>\n",
       "      <td>6.000000</td>\n",
       "      <td>19.000000</td>\n",
       "      <td>16.000000</td>\n",
       "      <td>40.000000</td>\n",
       "      <td>9.000000</td>\n",
       "      <td>1.000000</td>\n",
       "      <td>5.000000</td>\n",
       "    </tr>\n",
       "  </tbody>\n",
       "</table>\n",
       "<p>8 rows × 29 columns</p>\n",
       "</div>"
      ],
      "text/plain": [
       "       representativeArea  floorAreaRatio        minDeal        maxDeal  \\\n",
       "count          142.000000      142.000000     127.000000     127.000000   \n",
       "mean            99.070423      354.549296  177212.598425  246629.921260   \n",
       "std             43.509785      251.068344  120745.214498  169392.087817   \n",
       "min             32.000000        0.000000   26000.000000   29000.000000   \n",
       "25%             67.000000      243.000000   71500.000000  107500.000000   \n",
       "50%             94.000000      267.500000  185000.000000  220000.000000   \n",
       "75%            124.000000      434.000000  252500.000000  370000.000000   \n",
       "max            225.000000     1096.000000  505000.000000  560000.000000   \n",
       "\n",
       "          medianDeal       minLease       maxLease    medianLease  \\\n",
       "count     127.000000     120.000000     120.000000     103.000000   \n",
       "mean   192350.393701  107439.583333  153129.166667  123475.728155   \n",
       "std    132534.924492   70064.383625  101186.957671   79838.819820   \n",
       "min     27750.000000   19000.000000   19000.000000   23000.000000   \n",
       "25%     78625.000000   65000.000000   70000.000000   67500.000000   \n",
       "50%    185000.000000  100000.000000  117500.000000  110000.000000   \n",
       "75%    260000.000000  140000.000000  220000.000000  162500.000000   \n",
       "max    510000.000000  450000.000000  450000.000000  450000.000000   \n",
       "\n",
       "        minDealUnit   maxDealUnit  ...   PRESCHOOL  HOSPITAL     PARKING  \\\n",
       "count    127.000000    127.000000  ...  142.000000     142.0  142.000000   \n",
       "mean    5654.574803   6537.519685  ...    2.056338       0.0   18.584507   \n",
       "std     2496.299991   2807.494556  ...    0.920797       0.0    5.943282   \n",
       "min     1569.000000   1846.000000  ...    1.000000       0.0    4.000000   \n",
       "25%     3474.500000   4011.000000  ...    1.000000       0.0   16.000000   \n",
       "50%     5797.000000   6494.000000  ...    2.000000       0.0   19.000000   \n",
       "75%     7988.500000   8531.000000  ...    3.000000       0.0   23.000000   \n",
       "max    10093.000000  11702.000000  ...    4.000000       0.0   34.000000   \n",
       "\n",
       "             MART  CONVENIENCE     WASHING        BANK      OFFICE  \\\n",
       "count  142.000000   142.000000  142.000000  142.000000  142.000000   \n",
       "mean     2.943662    10.345070    9.281690   25.690141    6.605634   \n",
       "std      1.433018     5.038921    2.337988    7.161939    1.010286   \n",
       "min      0.000000     0.000000    4.000000   13.000000    5.000000   \n",
       "25%      2.000000     7.000000    8.000000   19.000000    6.000000   \n",
       "50%      3.000000    11.000000    9.000000   25.000000    6.000000   \n",
       "75%      4.000000    14.000000   10.750000   31.000000    7.000000   \n",
       "max      6.000000    19.000000   16.000000   40.000000    9.000000   \n",
       "\n",
       "       PRI_SCHOOL  PUB_SCHOOL  \n",
       "count  142.000000  142.000000  \n",
       "mean     0.978873    2.112676  \n",
       "std      0.144316    1.310615  \n",
       "min      0.000000    0.000000  \n",
       "25%      1.000000    1.000000  \n",
       "50%      1.000000    2.000000  \n",
       "75%      1.000000    3.000000  \n",
       "max      1.000000    5.000000  \n",
       "\n",
       "[8 rows x 29 columns]"
      ]
     },
     "execution_count": 13,
     "metadata": {},
     "output_type": "execute_result"
    }
   ],
   "source": [
    "total_df.describe()"
   ]
  },
  {
   "cell_type": "markdown",
   "id": "cb04c384",
   "metadata": {},
   "source": [
    "## 시각화 라벨"
   ]
  },
  {
   "cell_type": "code",
   "execution_count": 14,
   "id": "e38b2ed8",
   "metadata": {},
   "outputs": [],
   "source": [
    "target_lbl = 'minLease'"
   ]
  },
  {
   "cell_type": "markdown",
   "id": "6fde98a4",
   "metadata": {},
   "source": [
    "## 방향에 따른 가격"
   ]
  },
  {
   "cell_type": "code",
   "execution_count": 15,
   "id": "07b9f9e4",
   "metadata": {},
   "outputs": [
    {
     "data": {
      "text/plain": [
       "<AxesSubplot:xlabel='Dir', ylabel='minLease'>"
      ]
     },
     "execution_count": 15,
     "metadata": {},
     "output_type": "execute_result"
    },
    {
     "data": {
      "image/png": "[encoded data removed]",
      "text/plain": [
       "<Figure size 842.4x595.44 with 1 Axes>"
      ]
     },
     "metadata": {},
     "output_type": "display_data"
    }
   ],
   "source": [
    "sns.boxplot(x='Dir', y = target_lbl, hue='Type', data=total_df)"
   ]
  },
  {
   "cell_type": "markdown",
   "id": "9aebd8d5",
   "metadata": {},
   "source": [
    "## 오피스텔과 아파트 차이"
   ]
  },
  {
   "cell_type": "code",
   "execution_count": 16,
   "id": "d9dbf0e1",
   "metadata": {},
   "outputs": [
    {
     "data": {
      "text/plain": [
       "<AxesSubplot:xlabel='Type', ylabel='minLease'>"
      ]
     },
     "execution_count": 16,
     "metadata": {},
     "output_type": "execute_result"
    },
    {
     "data": {
      "image/png": "[encoded data removed]",
      "text/plain": [
       "<Figure size 842.4x595.44 with 1 Axes>"
      ]
     },
     "metadata": {},
     "output_type": "display_data"
    }
   ],
   "source": [
    "sns.boxplot(x='Type', y = target_lbl, data=total_df)"
   ]
  },
  {
   "cell_type": "markdown",
   "id": "5fb51f0a",
   "metadata": {},
   "source": [
    "## 연식에 따른 차이"
   ]
  },
  {
   "cell_type": "code",
   "execution_count": 17,
   "id": "ccab3df2",
   "metadata": {},
   "outputs": [
    {
     "data": {
      "text/plain": [
       "<AxesSubplot:xlabel='Old', ylabel='minLease'>"
      ]
     },
     "execution_count": 17,
     "metadata": {},
     "output_type": "execute_result"
    },
    {
     "data": {
      "image/png": "[encoded data removed]",
      "text/plain": [
       "<Figure size 842.4x595.44 with 1 Axes>"
      ]
     },
     "metadata": {},
     "output_type": "display_data"
    }
   ],
   "source": [
    "sns.boxplot(x='Old', y = target_lbl, hue='Type', data=total_df)"
   ]
  },
  {
   "cell_type": "markdown",
   "id": "b01a6ef6",
   "metadata": {},
   "source": [
    "## 저장"
   ]
  },
  {
   "cell_type": "code",
   "execution_count": 18,
   "id": "1ab2895c",
   "metadata": {},
   "outputs": [],
   "source": [
    "total_df.to_csv('./csv/%s - %s house_price.csv' % (sector.name, sector.city), sep=',', na_rep='NaN', index=False)"
   ]
  },
  {
   "cell_type": "code",
   "execution_count": null,
   "id": "ab897e26",
   "metadata": {},
   "outputs": [],
   "source": []
  }
 ],
 "metadata": {
  "kernelspec": {
   "display_name": "Python 3 (ipykernel)",
   "language": "python",
   "name": "python3"
  },
  "language_info": {
   "codemirror_mode": {
    "name": "ipython",
    "version": 3
   },
   "file_extension": ".py",
   "mimetype": "text/x-python",
   "name": "python",
   "nbconvert_exporter": "python",
   "pygments_lexer": "ipython3",
   "version": "3.9.7"
  }
 },
 "nbformat": 4,
 "nbformat_minor": 5
}

{
 "cells": [
  {
   "cell_type": "markdown",
   "id": "959b5c58",
   "metadata": {},
   "source": [
    "# Extract Csv"
   ]
  },
  {
   "cell_type": "code",
   "execution_count": 8,
   "id": "55892eca",
   "metadata": {},
   "outputs": [],
   "source": [
    "#import custom module\n",
    "import nre.con as nc\n",
    "import nre.classes as nn\n",
    "import nre.util as nu\n",
    "import pickle\n",
    "from tqdm import tqdm_notebook\n",
    "\n",
    "nu.IS_LOGGING = False"
   ]
  },
  {
   "cell_type": "code",
   "execution_count": 7,
   "id": "264ab51a",
   "metadata": {},
   "outputs": [],
   "source": [
    "infos = None\n",
    "\n",
    "newss = []\n",
    "\n",
    "with open('./sector data/sectors bundles.data', 'rb') as f:\n",
    "    hello = pickle.load(f)\n",
    "    \n",
    "for v in infos:\n",
    "    sector = v[0]\n",
    "    things = v[1]\n",
    "    neighbors = v[2]\n",
    "    \n",
    "    "
   ]
  },
  {
   "cell_type": "code",
   "execution_count": null,
   "id": "e61009c8",
   "metadata": {},
   "outputs": [],
   "source": []
  }
 ],
 "metadata": {
  "kernelspec": {
   "display_name": "Python 3 (ipykernel)",
   "language": "python",
   "name": "python3"
  },
  "language_info": {
   "codemirror_mode": {
    "name": "ipython",
    "version": 3
   },
   "file_extension": ".py",
   "mimetype": "text/x-python",
   "name": "python",
   "nbconvert_exporter": "python",
   "pygments_lexer": "ipython3",
   "version": "3.9.7"
  }
 },
 "nbformat": 4,
 "nbformat_minor": 5
}

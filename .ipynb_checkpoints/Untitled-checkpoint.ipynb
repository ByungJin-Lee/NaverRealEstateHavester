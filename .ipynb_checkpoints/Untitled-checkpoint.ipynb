{
 "cells": [
  {
   "cell_type": "code",
   "execution_count": 4,
   "id": "fc7a67ea",
   "metadata": {},
   "outputs": [
    {
     "name": "stdout",
     "output_type": "stream",
     "text": [
      "<class 'pandas.core.frame.DataFrame'>\n",
      "RangeIndex: 2448 entries, 0 to 2447\n",
      "Data columns (total 35 columns):\n",
      " #   Column              Non-Null Count  Dtype  \n",
      "---  ------              --------------  -----  \n",
      " 0   Name                2448 non-null   object \n",
      " 1   Type                2448 non-null   object \n",
      " 2   Build               2448 non-null   int64  \n",
      " 3   Dir                 2448 non-null   object \n",
      " 4   minArea             2448 non-null   float64\n",
      " 5   maxArea             2448 non-null   float64\n",
      " 6   representativeArea  2448 non-null   float64\n",
      " 7   floorAreaRatio      2448 non-null   int64  \n",
      " 8   minDeal             2448 non-null   int64  \n",
      " 9   maxDeal             2448 non-null   int64  \n",
      " 10  medianDeal          2216 non-null   float64\n",
      " 11  minLease            2448 non-null   int64  \n",
      " 12  maxLease            2448 non-null   int64  \n",
      " 13  medianLease         1344 non-null   float64\n",
      " 14  minDealUnit         2448 non-null   int64  \n",
      " 15  maxDealUnit         2448 non-null   int64  \n",
      " 16  medianDealUnit      2216 non-null   float64\n",
      " 17  minLeaseUnit        2448 non-null   int64  \n",
      " 18  maxLeaseUnit        2448 non-null   int64  \n",
      " 19  medianLeaseUnit     1344 non-null   float64\n",
      " 20  Lat                 2448 non-null   float64\n",
      " 21  Lon                 2448 non-null   float64\n",
      " 22  BUS                 2448 non-null   int64  \n",
      " 23  METRO               2448 non-null   int64  \n",
      " 24  INFANT              2448 non-null   int64  \n",
      " 25  PRESCHOOL           2448 non-null   int64  \n",
      " 26  SCHOOLPOI           2448 non-null   int64  \n",
      " 27  HOSPITAL            2448 non-null   int64  \n",
      " 28  PARKING             2448 non-null   int64  \n",
      " 29  MART                2448 non-null   int64  \n",
      " 30  CONVENIENCE         2448 non-null   int64  \n",
      " 31  WASHING             2448 non-null   int64  \n",
      " 32  BANK                2448 non-null   int64  \n",
      " 33  OFFICE              2448 non-null   int64  \n",
      " 34  sector              2448 non-null   object \n",
      "dtypes: float64(9), int64(22), object(4)\n",
      "memory usage: 669.5+ KB\n"
     ]
    }
   ],
   "source": [
    "import pandas as pd\n",
    "import csv\n",
    "\n",
    "basic = {}\n",
    "\n",
    "with open('./count_basic.csv', 'r', newline='', encoding='utf-8') as f:\n",
    "    reader = csv.reader(f)\n",
    "    reader\n",
    "\n",
    "df = pd.read_csv('./count_basic.csv')\n",
    "\n",
    "df.info()"
   ]
  },
  {
   "cell_type": "code",
   "execution_count": null,
   "id": "04882165",
   "metadata": {},
   "outputs": [],
   "source": []
  }
 ],
 "metadata": {
  "kernelspec": {
   "display_name": "Python 3 (ipykernel)",
   "language": "python",
   "name": "python3"
  },
  "language_info": {
   "codemirror_mode": {
    "name": "ipython",
    "version": 3
   },
   "file_extension": ".py",
   "mimetype": "text/x-python",
   "name": "python",
   "nbconvert_exporter": "python",
   "pygments_lexer": "ipython3",
   "version": "3.9.7"
  }
 },
 "nbformat": 4,
 "nbformat_minor": 5
}

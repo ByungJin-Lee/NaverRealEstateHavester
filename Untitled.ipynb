{
 "cells": [
  {
   "cell_type": "markdown",
   "id": "57c1e429",
   "metadata": {},
   "source": [
    "# Extract Csv"
   ]
  },
  {
   "cell_type": "code",
   "execution_count": 8,
   "id": "8a057609",
   "metadata": {},
   "outputs": [],
   "source": [
    "#import custom module\n",
    "import nre.con as nc\n",
    "import nre.classes as nn\n",
    "import nre.util as nu\n",
    "import pickle\n",
    "from tqdm import tqdm_notebook\n",
    "\n",
    "nu.IS_LOGGING = False"
   ]
  },
  {
   "cell_type": "code",
   "execution_count": 10,
   "id": "c8fc274f",
   "metadata": {},
   "outputs": [],
   "source": [
    "import io\n",
    "\n",
    "class RenameUnpickler(pickle.Unpickler):\n",
    "    def find_class(self, module, name):\n",
    "        renamed_module = module\n",
    "        if module == \"nre.con\":\n",
    "            renamed_module = \"nre.classes\"\n",
    "\n",
    "        return super(RenameUnpickler, self).find_class(renamed_module, name)\n",
    "\n",
    "\n",
    "def renamed_load(file_obj):\n",
    "    return RenameUnpickler(file_obj).load()\n",
    "\n",
    "\n",
    "def renamed_loads(pickled_bytes):\n",
    "    file_obj = io.BytesIO(pickled_bytes)\n",
    "    return renamed_load(file_obj)"
   ]
  },
  {
   "cell_type": "code",
   "execution_count": 11,
   "id": "607870cb",
   "metadata": {},
   "outputs": [],
   "source": [
    "infos = None\n",
    "\n",
    "with open('./sector data/nsectors bundles.data', 'rb') as f:\n",
    "    infos = renamed_load(f)"
   ]
  },
  {
   "cell_type": "code",
   "execution_count": 13,
   "id": "3d097c2f",
   "metadata": {},
   "outputs": [],
   "source": [
    "with open('./sector data/nsectors bundles.data', 'wb') as f:\n",
    "    pickle.dump(infos, f)"
   ]
  },
  {
   "cell_type": "code",
   "execution_count": null,
   "id": "ce378acf",
   "metadata": {},
   "outputs": [],
   "source": []
  }
 ],
 "metadata": {
  "kernelspec": {
   "display_name": "Python 3 (ipykernel)",
   "language": "python",
   "name": "python3"
  },
  "language_info": {
   "codemirror_mode": {
    "name": "ipython",
    "version": 3
   },
   "file_extension": ".py",
   "mimetype": "text/x-python",
   "name": "python",
   "nbconvert_exporter": "python",
   "pygments_lexer": "ipython3",
   "version": "3.9.7"
  }
 },
 "nbformat": 4,
 "nbformat_minor": 5
}
